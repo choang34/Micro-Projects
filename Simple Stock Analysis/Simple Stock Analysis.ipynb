{
  "nbformat": 4,
  "nbformat_minor": 0,
  "metadata": {
    "colab": {
      "provenance": [],
      "collapsed_sections": []
    },
    "kernelspec": {
      "name": "python3",
      "display_name": "Python 3"
    },
    "language_info": {
      "name": "python"
    }
  },
  "cells": [
    {
      "cell_type": "markdown",
      "source": [
        "Libraries needed to install"
      ],
      "metadata": {
        "id": "nkKQOd-nrtNG"
      }
    },
    {
      "cell_type": "code",
      "execution_count": null,
      "metadata": {
        "colab": {
          "base_uri": "https://localhost:8080/",
          "height": 729
        },
        "id": "14v1pXXBiMv2",
        "outputId": "0365dd48-9712-42cf-9fb8-cd833daed8a6"
      },
      "outputs": [
        {
          "output_type": "stream",
          "name": "stdout",
          "text": [
            "Looking in indexes: https://pypi.org/simple, https://us-python.pkg.dev/colab-wheels/public/simple/\n",
            "Collecting yfinance\n",
            "  Downloading yfinance-0.1.79-py2.py3-none-any.whl (29 kB)\n",
            "Requirement already satisfied: lxml>=4.5.1 in /usr/local/lib/python3.7/dist-packages (from yfinance) (4.9.1)\n",
            "Requirement already satisfied: numpy>=1.15 in /usr/local/lib/python3.7/dist-packages (from yfinance) (1.21.6)\n",
            "Requirement already satisfied: appdirs>=1.4.4 in /usr/local/lib/python3.7/dist-packages (from yfinance) (1.4.4)\n",
            "Requirement already satisfied: multitasking>=0.0.7 in /usr/local/lib/python3.7/dist-packages (from yfinance) (0.0.11)\n",
            "Requirement already satisfied: pandas>=0.24.0 in /usr/local/lib/python3.7/dist-packages (from yfinance) (1.3.5)\n",
            "Collecting requests>=2.26\n",
            "  Downloading requests-2.28.1-py3-none-any.whl (62 kB)\n",
            "\u001b[K     |████████████████████████████████| 62 kB 1.3 MB/s \n",
            "\u001b[?25hRequirement already satisfied: python-dateutil>=2.7.3 in /usr/local/lib/python3.7/dist-packages (from pandas>=0.24.0->yfinance) (2.8.2)\n",
            "Requirement already satisfied: pytz>=2017.3 in /usr/local/lib/python3.7/dist-packages (from pandas>=0.24.0->yfinance) (2022.4)\n",
            "Requirement already satisfied: six>=1.5 in /usr/local/lib/python3.7/dist-packages (from python-dateutil>=2.7.3->pandas>=0.24.0->yfinance) (1.15.0)\n",
            "Requirement already satisfied: certifi>=2017.4.17 in /usr/local/lib/python3.7/dist-packages (from requests>=2.26->yfinance) (2022.9.24)\n",
            "Requirement already satisfied: urllib3<1.27,>=1.21.1 in /usr/local/lib/python3.7/dist-packages (from requests>=2.26->yfinance) (1.24.3)\n",
            "Requirement already satisfied: charset-normalizer<3,>=2 in /usr/local/lib/python3.7/dist-packages (from requests>=2.26->yfinance) (2.1.1)\n",
            "Requirement already satisfied: idna<4,>=2.5 in /usr/local/lib/python3.7/dist-packages (from requests>=2.26->yfinance) (2.10)\n",
            "Installing collected packages: requests, yfinance\n",
            "  Attempting uninstall: requests\n",
            "    Found existing installation: requests 2.23.0\n",
            "    Uninstalling requests-2.23.0:\n",
            "      Successfully uninstalled requests-2.23.0\n",
            "Successfully installed requests-2.28.1 yfinance-0.1.79\n"
          ]
        },
        {
          "output_type": "display_data",
          "data": {
            "application/vnd.colab-display-data+json": {
              "pip_warning": {
                "packages": [
                  "requests"
                ]
              }
            }
          },
          "metadata": {}
        },
        {
          "output_type": "stream",
          "name": "stdout",
          "text": [
            "Looking in indexes: https://pypi.org/simple, https://us-python.pkg.dev/colab-wheels/public/simple/\n",
            "Collecting yahoofinancials\n",
            "  Downloading yahoofinancials-1.6.tar.gz (27 kB)\n",
            "Requirement already satisfied: beautifulsoup4 in /usr/local/lib/python3.7/dist-packages (from yahoofinancials) (4.6.3)\n",
            "Requirement already satisfied: pytz in /usr/local/lib/python3.7/dist-packages (from yahoofinancials) (2022.4)\n",
            "Building wheels for collected packages: yahoofinancials\n",
            "  Building wheel for yahoofinancials (setup.py) ... \u001b[?25l\u001b[?25hdone\n",
            "  Created wheel for yahoofinancials: filename=yahoofinancials-1.6-py3-none-any.whl size=15192 sha256=c7cb3b7f2203bd025bd3115a06440408a70737ca97762324174a78204413076c\n",
            "  Stored in directory: /root/.cache/pip/wheels/4b/63/46/e7110bfee88685fe69e338d1b14d1748921862aa57b6705b60\n",
            "Successfully built yahoofinancials\n",
            "Installing collected packages: yahoofinancials\n",
            "Successfully installed yahoofinancials-1.6\n"
          ]
        }
      ],
      "source": [
        "!pip install yfinance\n",
        "!pip install yahoofinancials"
      ]
    },
    {
      "cell_type": "markdown",
      "source": [
        "Import the libraries into codebase"
      ],
      "metadata": {
        "id": "rZ28O-vIrxLq"
      }
    },
    {
      "cell_type": "code",
      "source": [
        "import pandas as pd\n",
        "import yfinance as yf\n",
        "from yahoofinancials import YahooFinancials"
      ],
      "metadata": {
        "id": "c9aFe5PeoH9N"
      },
      "execution_count": null,
      "outputs": []
    },
    {
      "cell_type": "markdown",
      "source": [
        "Stock Price Info on Facebook (Meta)"
      ],
      "metadata": {
        "id": "4N4xNp4-r0jz"
      }
    },
    {
      "cell_type": "code",
      "source": [
        "FB_info = yf.Ticker(\"META\")\n",
        "print(\"Open Price:\", FB_info.info['open'])\n",
        "print(\"Current Price:\", FB_info.info['currentPrice'])\n",
        "print(\"Target Price:\", FB_info.info['targetMedianPrice'])\n",
        "print(\"52 Week Growth:\", FB_info.info['52WeekChange'])\n",
        "print(\"PEG Ratio:\", FB_info.info['pegRatio'])"
      ],
      "metadata": {
        "colab": {
          "base_uri": "https://localhost:8080/"
        },
        "id": "zS8Isv12oivI",
        "outputId": "d9dee8d6-134d-46e6-e5e1-932bd829a0e4"
      },
      "execution_count": null,
      "outputs": [
        {
          "output_type": "stream",
          "name": "stdout",
          "text": [
            "Open Price: 137.085\n",
            "Current Price: 132.8\n",
            "Target Price: 205\n",
            "52 Week Growth: -0.6103058\n",
            "PEG Ratio: 2.01\n"
          ]
        }
      ]
    },
    {
      "cell_type": "markdown",
      "source": [
        "Stock Price Info on Twitter"
      ],
      "metadata": {
        "id": "r7hw_zIFtH0e"
      }
    },
    {
      "cell_type": "code",
      "source": [
        "Twit = yf.Ticker(\"TWTR\")\n",
        "print(\"Open Price:\", Twit.info['open'])\n",
        "print(\"Current Price:\", Twit.info['currentPrice'])\n",
        "print(\"Target Price:\", Twit.info['targetMedianPrice'])\n",
        "print(\"52 Week Growth:\", Twit.info['52WeekChange'])\n",
        "print(\"PEG Ratio:\", Twit.info['pegRatio'])"
      ],
      "metadata": {
        "colab": {
          "base_uri": "https://localhost:8080/"
        },
        "id": "KdJDSxzDtL8Q",
        "outputId": "43c81cc8-cd33-40e3-c476-7a673a1cf6be"
      },
      "execution_count": null,
      "outputs": [
        {
          "output_type": "stream",
          "name": "stdout",
          "text": [
            "Open Price: 51.1\n",
            "Current Price: 51.78\n",
            "Target Price: 45\n",
            "52 Week Growth: -0.21306992\n",
            "PEG Ratio: 0.45\n"
          ]
        }
      ]
    },
    {
      "cell_type": "markdown",
      "source": [
        "Now Let's Compare Tickers"
      ],
      "metadata": {
        "id": "Qblb8FcbvuE4"
      }
    },
    {
      "cell_type": "code",
      "source": [
        "from pandas_datareader import data as pdr\n",
        "yf.pdr_override()\n",
        "\n",
        "FB_data = pdr.get_data_yahoo(\"META\", start =\"2021-10-18\", end=\"2022-10-18\")\n",
        "print(FB_data)\n",
        "TWTR_data = pdr.get_data_yahoo(\"TWTR\", start =\"2021-10-18\", end=\"2022-10-18\")\n",
        "print(TWTR_data)"
      ],
      "metadata": {
        "colab": {
          "base_uri": "https://localhost:8080/"
        },
        "id": "vbtEa1yeuVCl",
        "outputId": "d5a91ef7-e47e-463c-9597-df8686ab5813"
      },
      "execution_count": null,
      "outputs": [
        {
          "output_type": "stream",
          "name": "stdout",
          "text": [
            "\r[*********************100%***********************]  1 of 1 completed\n",
            "                                 Open        High         Low       Close  \\\n",
            "Date                                                                        \n",
            "2021-10-18 00:00:00-04:00  328.950012  335.890015  327.500000  335.339996   \n",
            "2021-10-19 00:00:00-04:00  339.649994  342.459991  337.279999  339.989990   \n",
            "2021-10-20 00:00:00-04:00  343.450012  343.980011  339.450012  340.779999   \n",
            "2021-10-21 00:00:00-04:00  340.279999  342.309998  337.799988  341.880005   \n",
            "2021-10-22 00:00:00-04:00  326.350006  329.630005  321.109985  324.609985   \n",
            "...                               ...         ...         ...         ...   \n",
            "2022-10-11 00:00:00-04:00  131.619995  132.660004  126.989998  128.539993   \n",
            "2022-10-12 00:00:00-04:00  128.320007  129.669998  126.250000  127.500000   \n",
            "2022-10-13 00:00:00-04:00  123.529999  131.139999  122.529999  130.289993   \n",
            "2022-10-14 00:00:00-04:00  131.000000  131.789993  126.519997  126.760002   \n",
            "2022-10-17 00:00:00-04:00  130.300003  134.789993  130.179993  134.039993   \n",
            "\n",
            "                            Adj Close    Volume  \n",
            "Date                                             \n",
            "2021-10-18 00:00:00-04:00  335.339996  21585000  \n",
            "2021-10-19 00:00:00-04:00  339.989990  18786300  \n",
            "2021-10-20 00:00:00-04:00  340.779999  13639500  \n",
            "2021-10-21 00:00:00-04:00  341.880005  16354400  \n",
            "2021-10-22 00:00:00-04:00  324.609985  35224500  \n",
            "...                               ...       ...  \n",
            "2022-10-11 00:00:00-04:00  128.539993  38481400  \n",
            "2022-10-12 00:00:00-04:00  127.500000  34605200  \n",
            "2022-10-13 00:00:00-04:00  130.289993  34325700  \n",
            "2022-10-14 00:00:00-04:00  126.760002  23538600  \n",
            "2022-10-17 00:00:00-04:00  134.039993  29612200  \n",
            "\n",
            "[252 rows x 6 columns]\n",
            "[*********************100%***********************]  1 of 1 completed\n",
            "                                Open       High        Low      Close  \\\n",
            "Date                                                                    \n",
            "2021-10-18 00:00:00-04:00  62.689999  65.070000  62.669998  64.839996   \n",
            "2021-10-19 00:00:00-04:00  65.139999  67.360001  64.300003  66.110001   \n",
            "2021-10-20 00:00:00-04:00  66.360001  68.410004  65.540001  65.800003   \n",
            "2021-10-21 00:00:00-04:00  65.669998  65.980003  64.730003  65.400002   \n",
            "2021-10-22 00:00:00-04:00  63.810001  64.470001  62.090000  62.240002   \n",
            "...                              ...        ...        ...        ...   \n",
            "2022-10-11 00:00:00-04:00  50.029999  50.549999  49.810001  50.070000   \n",
            "2022-10-12 00:00:00-04:00  50.009998  50.500000  49.810001  49.939999   \n",
            "2022-10-13 00:00:00-04:00  49.799999  51.070000  49.520000  50.340000   \n",
            "2022-10-14 00:00:00-04:00  50.490002  50.869999  50.299999  50.450001   \n",
            "2022-10-17 00:00:00-04:00  50.500000  50.900002  50.200001  50.740002   \n",
            "\n",
            "                           Adj Close    Volume  \n",
            "Date                                            \n",
            "2021-10-18 00:00:00-04:00  64.839996  10359500  \n",
            "2021-10-19 00:00:00-04:00  66.110001  11486900  \n",
            "2021-10-20 00:00:00-04:00  65.800003  15938400  \n",
            "2021-10-21 00:00:00-04:00  65.400002  10918500  \n",
            "2021-10-22 00:00:00-04:00  62.240002  17636400  \n",
            "...                              ...       ...  \n",
            "2022-10-11 00:00:00-04:00  50.070000  11626800  \n",
            "2022-10-12 00:00:00-04:00  49.939999  11827800  \n",
            "2022-10-13 00:00:00-04:00  50.340000  18641300  \n",
            "2022-10-14 00:00:00-04:00  50.450001  10034500  \n",
            "2022-10-17 00:00:00-04:00  50.740002  14101300  \n",
            "\n",
            "[252 rows x 6 columns]\n"
          ]
        }
      ]
    },
    {
      "cell_type": "markdown",
      "source": [
        "Hard to read so lets make it easier:"
      ],
      "metadata": {
        "id": "k70jXdK9xBYg"
      }
    },
    {
      "cell_type": "code",
      "source": [
        "graph_metadata = yf.download(\"META TWTR\", start =\"2021-10-18\", end=\"2022-10-18\", interval = \"1wk\", group_by=\"tickers\")\n",
        "graph_metadata.stack(0).reset_index().rename(columns={'level_1':'Ticker'})"
      ],
      "metadata": {
        "colab": {
          "base_uri": "https://localhost:8080/",
          "height": 441
        },
        "id": "QiPSK5nxynSr",
        "outputId": "d6c7c2b2-17da-40bf-948f-b08243b0c09f"
      },
      "execution_count": null,
      "outputs": [
        {
          "output_type": "stream",
          "name": "stdout",
          "text": [
            "[*********************100%***********************]  2 of 2 completed\n"
          ]
        },
        {
          "output_type": "execute_result",
          "data": {
            "text/plain": [
              "          Date Ticker   Adj Close       Close        High         Low  \\\n",
              "0   2021-10-18   META  324.609985  324.609985  343.980011  321.109985   \n",
              "1   2021-10-18   TWTR   62.240002   62.240002   68.410004   62.090000   \n",
              "2   2021-10-25   META  323.570007  323.570007  330.209991  308.109985   \n",
              "3   2021-10-25   TWTR   53.540001   53.540001   63.080002   53.150002   \n",
              "4   2021-11-01   META  341.130005  341.130005  346.790009  323.200012   \n",
              "..         ...    ...         ...         ...         ...         ...   \n",
              "101 2022-10-03   TWTR   49.180000   49.180000   52.299999   42.230000   \n",
              "102 2022-10-10   META  126.760002  126.760002  136.110001  122.529999   \n",
              "103 2022-10-10   TWTR   50.450001   50.450001   51.070000   49.500000   \n",
              "104 2022-10-17   META  132.800003  132.800003  137.839996  130.179993   \n",
              "105 2022-10-17   TWTR   51.779999   51.779999   52.099998   50.200001   \n",
              "\n",
              "           Open     Volume  \n",
              "0    328.950012  105589700  \n",
              "1     62.689999   66339700  \n",
              "2    320.299988  221901000  \n",
              "3     61.520000  123999100  \n",
              "4    326.040009  130026500  \n",
              "..          ...        ...  \n",
              "101   43.900002  240945300  \n",
              "102  133.550003  154974900  \n",
              "103   49.660000   74402800  \n",
              "104  130.300003   54980000  \n",
              "105   50.500000   32619500  \n",
              "\n",
              "[106 rows x 8 columns]"
            ],
            "text/html": [
              "\n",
              "  <div id=\"df-e25be375-c846-4b0e-a66e-3e811e2d1d53\">\n",
              "    <div class=\"colab-df-container\">\n",
              "      <div>\n",
              "<style scoped>\n",
              "    .dataframe tbody tr th:only-of-type {\n",
              "        vertical-align: middle;\n",
              "    }\n",
              "\n",
              "    .dataframe tbody tr th {\n",
              "        vertical-align: top;\n",
              "    }\n",
              "\n",
              "    .dataframe thead th {\n",
              "        text-align: right;\n",
              "    }\n",
              "</style>\n",
              "<table border=\"1\" class=\"dataframe\">\n",
              "  <thead>\n",
              "    <tr style=\"text-align: right;\">\n",
              "      <th></th>\n",
              "      <th>Date</th>\n",
              "      <th>Ticker</th>\n",
              "      <th>Adj Close</th>\n",
              "      <th>Close</th>\n",
              "      <th>High</th>\n",
              "      <th>Low</th>\n",
              "      <th>Open</th>\n",
              "      <th>Volume</th>\n",
              "    </tr>\n",
              "  </thead>\n",
              "  <tbody>\n",
              "    <tr>\n",
              "      <th>0</th>\n",
              "      <td>2021-10-18</td>\n",
              "      <td>META</td>\n",
              "      <td>324.609985</td>\n",
              "      <td>324.609985</td>\n",
              "      <td>343.980011</td>\n",
              "      <td>321.109985</td>\n",
              "      <td>328.950012</td>\n",
              "      <td>105589700</td>\n",
              "    </tr>\n",
              "    <tr>\n",
              "      <th>1</th>\n",
              "      <td>2021-10-18</td>\n",
              "      <td>TWTR</td>\n",
              "      <td>62.240002</td>\n",
              "      <td>62.240002</td>\n",
              "      <td>68.410004</td>\n",
              "      <td>62.090000</td>\n",
              "      <td>62.689999</td>\n",
              "      <td>66339700</td>\n",
              "    </tr>\n",
              "    <tr>\n",
              "      <th>2</th>\n",
              "      <td>2021-10-25</td>\n",
              "      <td>META</td>\n",
              "      <td>323.570007</td>\n",
              "      <td>323.570007</td>\n",
              "      <td>330.209991</td>\n",
              "      <td>308.109985</td>\n",
              "      <td>320.299988</td>\n",
              "      <td>221901000</td>\n",
              "    </tr>\n",
              "    <tr>\n",
              "      <th>3</th>\n",
              "      <td>2021-10-25</td>\n",
              "      <td>TWTR</td>\n",
              "      <td>53.540001</td>\n",
              "      <td>53.540001</td>\n",
              "      <td>63.080002</td>\n",
              "      <td>53.150002</td>\n",
              "      <td>61.520000</td>\n",
              "      <td>123999100</td>\n",
              "    </tr>\n",
              "    <tr>\n",
              "      <th>4</th>\n",
              "      <td>2021-11-01</td>\n",
              "      <td>META</td>\n",
              "      <td>341.130005</td>\n",
              "      <td>341.130005</td>\n",
              "      <td>346.790009</td>\n",
              "      <td>323.200012</td>\n",
              "      <td>326.040009</td>\n",
              "      <td>130026500</td>\n",
              "    </tr>\n",
              "    <tr>\n",
              "      <th>...</th>\n",
              "      <td>...</td>\n",
              "      <td>...</td>\n",
              "      <td>...</td>\n",
              "      <td>...</td>\n",
              "      <td>...</td>\n",
              "      <td>...</td>\n",
              "      <td>...</td>\n",
              "      <td>...</td>\n",
              "    </tr>\n",
              "    <tr>\n",
              "      <th>101</th>\n",
              "      <td>2022-10-03</td>\n",
              "      <td>TWTR</td>\n",
              "      <td>49.180000</td>\n",
              "      <td>49.180000</td>\n",
              "      <td>52.299999</td>\n",
              "      <td>42.230000</td>\n",
              "      <td>43.900002</td>\n",
              "      <td>240945300</td>\n",
              "    </tr>\n",
              "    <tr>\n",
              "      <th>102</th>\n",
              "      <td>2022-10-10</td>\n",
              "      <td>META</td>\n",
              "      <td>126.760002</td>\n",
              "      <td>126.760002</td>\n",
              "      <td>136.110001</td>\n",
              "      <td>122.529999</td>\n",
              "      <td>133.550003</td>\n",
              "      <td>154974900</td>\n",
              "    </tr>\n",
              "    <tr>\n",
              "      <th>103</th>\n",
              "      <td>2022-10-10</td>\n",
              "      <td>TWTR</td>\n",
              "      <td>50.450001</td>\n",
              "      <td>50.450001</td>\n",
              "      <td>51.070000</td>\n",
              "      <td>49.500000</td>\n",
              "      <td>49.660000</td>\n",
              "      <td>74402800</td>\n",
              "    </tr>\n",
              "    <tr>\n",
              "      <th>104</th>\n",
              "      <td>2022-10-17</td>\n",
              "      <td>META</td>\n",
              "      <td>132.800003</td>\n",
              "      <td>132.800003</td>\n",
              "      <td>137.839996</td>\n",
              "      <td>130.179993</td>\n",
              "      <td>130.300003</td>\n",
              "      <td>54980000</td>\n",
              "    </tr>\n",
              "    <tr>\n",
              "      <th>105</th>\n",
              "      <td>2022-10-17</td>\n",
              "      <td>TWTR</td>\n",
              "      <td>51.779999</td>\n",
              "      <td>51.779999</td>\n",
              "      <td>52.099998</td>\n",
              "      <td>50.200001</td>\n",
              "      <td>50.500000</td>\n",
              "      <td>32619500</td>\n",
              "    </tr>\n",
              "  </tbody>\n",
              "</table>\n",
              "<p>106 rows × 8 columns</p>\n",
              "</div>\n",
              "      <button class=\"colab-df-convert\" onclick=\"convertToInteractive('df-e25be375-c846-4b0e-a66e-3e811e2d1d53')\"\n",
              "              title=\"Convert this dataframe to an interactive table.\"\n",
              "              style=\"display:none;\">\n",
              "        \n",
              "  <svg xmlns=\"http://www.w3.org/2000/svg\" height=\"24px\"viewBox=\"0 0 24 24\"\n",
              "       width=\"24px\">\n",
              "    <path d=\"M0 0h24v24H0V0z\" fill=\"none\"/>\n",
              "    <path d=\"M18.56 5.44l.94 2.06.94-2.06 2.06-.94-2.06-.94-.94-2.06-.94 2.06-2.06.94zm-11 1L8.5 8.5l.94-2.06 2.06-.94-2.06-.94L8.5 2.5l-.94 2.06-2.06.94zm10 10l.94 2.06.94-2.06 2.06-.94-2.06-.94-.94-2.06-.94 2.06-2.06.94z\"/><path d=\"M17.41 7.96l-1.37-1.37c-.4-.4-.92-.59-1.43-.59-.52 0-1.04.2-1.43.59L10.3 9.45l-7.72 7.72c-.78.78-.78 2.05 0 2.83L4 21.41c.39.39.9.59 1.41.59.51 0 1.02-.2 1.41-.59l7.78-7.78 2.81-2.81c.8-.78.8-2.07 0-2.86zM5.41 20L4 18.59l7.72-7.72 1.47 1.35L5.41 20z\"/>\n",
              "  </svg>\n",
              "      </button>\n",
              "      \n",
              "  <style>\n",
              "    .colab-df-container {\n",
              "      display:flex;\n",
              "      flex-wrap:wrap;\n",
              "      gap: 12px;\n",
              "    }\n",
              "\n",
              "    .colab-df-convert {\n",
              "      background-color: #E8F0FE;\n",
              "      border: none;\n",
              "      border-radius: 50%;\n",
              "      cursor: pointer;\n",
              "      display: none;\n",
              "      fill: #1967D2;\n",
              "      height: 32px;\n",
              "      padding: 0 0 0 0;\n",
              "      width: 32px;\n",
              "    }\n",
              "\n",
              "    .colab-df-convert:hover {\n",
              "      background-color: #E2EBFA;\n",
              "      box-shadow: 0px 1px 2px rgba(60, 64, 67, 0.3), 0px 1px 3px 1px rgba(60, 64, 67, 0.15);\n",
              "      fill: #174EA6;\n",
              "    }\n",
              "\n",
              "    [theme=dark] .colab-df-convert {\n",
              "      background-color: #3B4455;\n",
              "      fill: #D2E3FC;\n",
              "    }\n",
              "\n",
              "    [theme=dark] .colab-df-convert:hover {\n",
              "      background-color: #434B5C;\n",
              "      box-shadow: 0px 1px 3px 1px rgba(0, 0, 0, 0.15);\n",
              "      filter: drop-shadow(0px 1px 2px rgba(0, 0, 0, 0.3));\n",
              "      fill: #FFFFFF;\n",
              "    }\n",
              "  </style>\n",
              "\n",
              "      <script>\n",
              "        const buttonEl =\n",
              "          document.querySelector('#df-e25be375-c846-4b0e-a66e-3e811e2d1d53 button.colab-df-convert');\n",
              "        buttonEl.style.display =\n",
              "          google.colab.kernel.accessAllowed ? 'block' : 'none';\n",
              "\n",
              "        async function convertToInteractive(key) {\n",
              "          const element = document.querySelector('#df-e25be375-c846-4b0e-a66e-3e811e2d1d53');\n",
              "          const dataTable =\n",
              "            await google.colab.kernel.invokeFunction('convertToInteractive',\n",
              "                                                     [key], {});\n",
              "          if (!dataTable) return;\n",
              "\n",
              "          const docLinkHtml = 'Like what you see? Visit the ' +\n",
              "            '<a target=\"_blank\" href=https://colab.research.google.com/notebooks/data_table.ipynb>data table notebook</a>'\n",
              "            + ' to learn more about interactive tables.';\n",
              "          element.innerHTML = '';\n",
              "          dataTable['output_type'] = 'display_data';\n",
              "          await google.colab.output.renderOutput(dataTable, element);\n",
              "          const docLink = document.createElement('div');\n",
              "          docLink.innerHTML = docLinkHtml;\n",
              "          element.appendChild(docLink);\n",
              "        }\n",
              "      </script>\n",
              "    </div>\n",
              "  </div>\n",
              "  "
            ]
          },
          "metadata": {},
          "execution_count": 51
        }
      ]
    },
    {
      "cell_type": "markdown",
      "source": [
        "Individual Graphs for TWTR and Meta"
      ],
      "metadata": {
        "id": "PervXa1f1jze"
      }
    },
    {
      "cell_type": "code",
      "source": [
        "!pip install matplotlib"
      ],
      "metadata": {
        "colab": {
          "base_uri": "https://localhost:8080/"
        },
        "id": "bDWmvDyu2rFY",
        "outputId": "7dcec8cf-2f57-4634-91c9-aa6065c51949"
      },
      "execution_count": null,
      "outputs": [
        {
          "output_type": "stream",
          "name": "stdout",
          "text": [
            "Looking in indexes: https://pypi.org/simple, https://us-python.pkg.dev/colab-wheels/public/simple/\n",
            "Requirement already satisfied: matplotlib in /usr/local/lib/python3.7/dist-packages (3.2.2)\n",
            "Requirement already satisfied: python-dateutil>=2.1 in /usr/local/lib/python3.7/dist-packages (from matplotlib) (2.8.2)\n",
            "Requirement already satisfied: kiwisolver>=1.0.1 in /usr/local/lib/python3.7/dist-packages (from matplotlib) (1.4.4)\n",
            "Requirement already satisfied: numpy>=1.11 in /usr/local/lib/python3.7/dist-packages (from matplotlib) (1.21.6)\n",
            "Requirement already satisfied: pyparsing!=2.0.4,!=2.1.2,!=2.1.6,>=2.0.1 in /usr/local/lib/python3.7/dist-packages (from matplotlib) (3.0.9)\n",
            "Requirement already satisfied: cycler>=0.10 in /usr/local/lib/python3.7/dist-packages (from matplotlib) (0.11.0)\n",
            "Requirement already satisfied: typing-extensions in /usr/local/lib/python3.7/dist-packages (from kiwisolver>=1.0.1->matplotlib) (4.1.1)\n",
            "Requirement already satisfied: six>=1.5 in /usr/local/lib/python3.7/dist-packages (from python-dateutil>=2.1->matplotlib) (1.15.0)\n"
          ]
        }
      ]
    },
    {
      "cell_type": "code",
      "source": [
        "import matplotlib.pyplot as plt\n",
        "import numpy as np\n",
        "\n",
        "def high_stock (ticker):\n",
        "  Asset = pd.DataFrame(yf.download(ticker, start='2021-10-18', end='2022-10-18') ['High'])\n",
        "  return Asset\n",
        "\n",
        "META_high = high_stock('META')\n",
        "TWTR_high = high_stock('AMZN')\n",
        "\n",
        "plt.plot(META_high)\n",
        "plt.show()\n",
        "\n",
        "plt.plot(TWTR_high)\n",
        "plt.show"
      ],
      "metadata": {
        "colab": {
          "base_uri": "https://localhost:8080/",
          "height": 565
        },
        "id": "p8tp2w5a1EcZ",
        "outputId": "69d32cff-cd76-445c-b2d9-5c5f8861884f"
      },
      "execution_count": null,
      "outputs": [
        {
          "output_type": "stream",
          "name": "stdout",
          "text": [
            "[*********************100%***********************]  1 of 1 completed\n",
            "[*********************100%***********************]  1 of 1 completed\n"
          ]
        },
        {
          "output_type": "display_data",
          "data": {
            "text/plain": [
              "<Figure size 432x288 with 1 Axes>"
            ],
            "image/png": "[encoded data removed]"
          },
          "metadata": {
            "needs_background": "light"
          }
        },
        {
          "output_type": "execute_result",
          "data": {
            "text/plain": [
              "<function matplotlib.pyplot.show(*args, **kw)>"
            ]
          },
          "metadata": {},
          "execution_count": 65
        },
        {
          "output_type": "display_data",
          "data": {
            "text/plain": [
              "<Figure size 432x288 with 1 Axes>"
            ],
            "image/png": "[encoded data removed]"
          },
          "metadata": {
            "needs_background": "light"
          }
        }
      ]
    },
    {
      "cell_type": "markdown",
      "source": [
        "Let's make it easier to distinguish the graphs:"
      ],
      "metadata": {
        "id": "m7ZXldhA3mIl"
      }
    },
    {
      "cell_type": "code",
      "source": [
        "def highest_ticker(ticker, color, head):\n",
        "  plt.plot(ticker, color=color, linewidth=2)\n",
        "  plt.title(head)\n",
        "  plt.ylabel('Price')\n",
        "  plt.xlabel('Date')\n",
        "  plt.show()\n",
        "\n",
        "META_plot = highest_ticker(META_high, 'purple', 'META Performance')\n",
        "TWTR_plot = highest_ticker(TWTR_high, 'blue', 'Twitter Performance')"
      ],
      "metadata": {
        "colab": {
          "base_uri": "https://localhost:8080/",
          "height": 573
        },
        "id": "Uao9--kD3otg",
        "outputId": "5ae921e3-910e-43e8-db4e-f5fc2e45e88e"
      },
      "execution_count": null,
      "outputs": [
        {
          "output_type": "display_data",
          "data": {
            "text/plain": [
              "<Figure size 432x288 with 1 Axes>"
            ],
            "image/png": "[encoded data removed]"
          },
          "metadata": {
            "needs_background": "light"
          }
        },
        {
          "output_type": "display_data",
          "data": {
            "text/plain": [
              "<Figure size 432x288 with 1 Axes>"
            ],
            "image/png": "[encoded data removed]"
          },
          "metadata": {
            "needs_background": "light"
          }
        }
      ]
    }
  ]
}